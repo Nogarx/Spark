{
 "cells": [
  {
   "cell_type": "markdown",
   "id": "a80024d6",
   "metadata": {},
   "source": [
    "## Tutorial \\#3: Brains"
   ]
  },
  {
   "cell_type": "markdown",
   "id": "bde5c166",
   "metadata": {},
   "source": [
    "<b><i>Spark</i></b> "
   ]
  },
  {
   "cell_type": "code",
   "execution_count": null,
   "id": "872ab7b3",
   "metadata": {},
   "outputs": [],
   "source": [
    "# Imports\n",
    "import spark\n",
    "import typing as tp\n",
    "import jax.numpy as jnp"
   ]
  }
 ],
 "metadata": {
  "language_info": {
   "name": "python"
  }
 },
 "nbformat": 4,
 "nbformat_minor": 5
}
