{
 "cells": [
  {
   "cell_type": "markdown",
   "id": "a80024d6",
   "metadata": {},
   "source": [
    "## Tutorial \\#3: Brains"
   ]
  },
  {
   "cell_type": "markdown",
   "id": "bde5c166",
   "metadata": {},
   "source": [
    "<b><i>Spark</i></b> "
   ]
  },
  {
   "cell_type": "code",
   "execution_count": null,
   "id": "872ab7b3",
   "metadata": {},
   "outputs": [],
   "source": [
    "import sys\n",
    "sys.path.insert(1, './..')\n",
    "\n",
    "# Imports\n",
    "import spark\n",
    "import jax\n",
    "import numpy as np\n",
    "import typing as tp\n",
    "import jax.numpy as jnp"
   ]
  },
  {
   "cell_type": "code",
   "execution_count": 2,
   "id": "2571fc88",
   "metadata": {},
   "outputs": [],
   "source": [
    "brain_config = spark.nn.Config.from_file('./example_model.scfg')\n",
    "brain = spark.nn.Brain(config=brain_config)"
   ]
  },
  {
   "cell_type": "code",
   "execution_count": null,
   "id": "760d951f",
   "metadata": {},
   "outputs": [],
   "source": [
    "@jax.jit\n",
    "def run_model(graph, state, x):\n",
    "\tmodel = spark.merge(graph, state)\n",
    "\tout = model(drive=x)\n",
    "\t_, state = spark.split((model))\n",
    "\treturn out, state\n",
    "\n",
    "@jax.jit\n",
    "def retrieve_spikes(graph, state,):\n",
    "\tmodel = spark.merge(graph, state)\n",
    "\tspikes = model.get_spikes_from_cache()\n",
    "\treturn spikes\n",
    "\n",
    "def process_obs(x):\n",
    "\t# CartPos, CartSpeed, PoleAngle, PoleAngSpeed \n",
    "\tx = x / np.array([2.4, 2.5, 0.2095, 3.5])\n",
    "\tx = np.clip(x, a_min=-1, a_max=1)\n",
    "\treturn x\n",
    "\n",
    "def compute_real_reward(x, x_prev, r_prev, terminated):\n",
    "\t# CartPos, CartSpeed, PoleAngle, PoleAngSpeed \n",
    "\tif terminated:\n",
    "\t\treturn 0\n",
    "\tr = (x_prev[0]**2 - x[0]**2) + (x_prev[2]**2 - x[2]**2)\n",
    "\tr = np.clip(0.5 * r_prev + 2 * r, a_min=-1, a_max=1)\n",
    "\treturn r"
   ]
  }
 ],
 "metadata": {
  "kernelspec": {
   "display_name": ".env",
   "language": "python",
   "name": "python3"
  },
  "language_info": {
   "codemirror_mode": {
    "name": "ipython",
    "version": 3
   },
   "file_extension": ".py",
   "mimetype": "text/x-python",
   "name": "python",
   "nbconvert_exporter": "python",
   "pygments_lexer": "ipython3",
   "version": "3.13.3"
  }
 },
 "nbformat": 4,
 "nbformat_minor": 5
}
