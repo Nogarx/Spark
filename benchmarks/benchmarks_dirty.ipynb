{
 "cells": [
  {
   "cell_type": "code",
   "execution_count": 1,
   "id": "b3387f73",
   "metadata": {},
   "outputs": [],
   "source": [
    "import spark\n",
    "import numpy as np\n",
    "import brian2 as b2\n",
    "import matplotlib.pyplot as plt"
   ]
  },
  {
   "cell_type": "code",
   "execution_count": 2,
   "id": "835492cf",
   "metadata": {},
   "outputs": [],
   "source": [
    "def step_current(\n",
    "        t: float, # [ms]\n",
    "        t_start: float, # [ms]\n",
    "        t_end: float, # [ms]\n",
    "        amplitude: float, # [nA] \n",
    "        dt: float=1.0 # [ms]\n",
    "    ):\n",
    "    assert t >= t_end and t_end > t_start and t_start >= 0\n",
    "    assert dt > 0\n",
    "    _t = int(round(t / dt)) + 1\n",
    "    _t_start = int(round(t_start / dt))\n",
    "    _t_end = int(round(t_end / dt))\n",
    "    currents = np.zeros((_t,))\n",
    "    currents[_t_start:_t_end] = amplitude\n",
    "    times = np.linspace(0, t, len(currents))\n",
    "    return times, currents\n",
    "\n",
    "def _to_b2(times, currents):\n",
    "    return b2.TimedArray(np.vstack([times, currents]), dt=b2.ms)"
   ]
  },
  {
   "cell_type": "code",
   "execution_count": null,
   "id": "887366a1",
   "metadata": {},
   "outputs": [],
   "source": [
    "# Neuron model default values\n",
    "V_REST = -70\n",
    "V_RESET = -65 * b2.mV\n",
    "FIRING_THRESHOLD = -50 * b2.mV\n",
    "MEMBRANE_RESISTANCE = 10. * b2.Mohm\n",
    "MEMBRANE_TIME_SCALE = 8. * b2.ms\n",
    "ABSOLUTE_REFRACTORY_PERIOD = 2.0 * b2.ms\n",
    "\n",
    "def simulate_LIF_neuron(input_current,\n",
    "                        simulation_time=5 * b2.ms,\n",
    "                        v_rest=V_REST,\n",
    "                        v_reset=V_RESET,\n",
    "                        firing_threshold=FIRING_THRESHOLD,\n",
    "                        membrane_resistance=MEMBRANE_RESISTANCE,\n",
    "                        membrane_time_scale=MEMBRANE_TIME_SCALE,\n",
    "                        abs_refractory_period=ABSOLUTE_REFRACTORY_PERIOD):\n",
    "    \"\"\"\n",
    "        Basic leaky integrate and fire neuron implementation.\n",
    "    \"\"\"\n",
    "    # Leaky Integrate-and-Fire model\n",
    "    eqs = \"\"\"\n",
    "    dv/dt =\n",
    "    ( -(v-v_rest) + membrane_resistance * input_current(t,i) ) / membrane_time_scale : volt (unless refractory)\"\"\"\n",
    "    neuron = b2.NeuronGroup(\n",
    "        1, model=eqs, reset=\"v=v_reset\", threshold=\"v>firing_threshold\",\n",
    "        refractory=abs_refractory_period, method=\"linear\")\n",
    "    neuron.v = v_rest  # set initial value\n",
    "    # monitoring membrane potential of neuron and injecting current\n",
    "    state_monitor = b2.StateMonitor(neuron, [\"v\"], record=True)\n",
    "    spike_monitor = b2.SpikeMonitor(neuron)\n",
    "    # Simulation\n",
    "    b2.run(simulation_time)\n",
    "    return state_monitor, spike_monitor\n"
   ]
  },
  {
   "cell_type": "code",
   "execution_count": 4,
   "id": "b24aa717",
   "metadata": {},
   "outputs": [
    {
     "data": {
      "text/plain": [
       "(array([ 0.,  1.,  2.,  3.,  4.,  5.,  6.,  7.,  8.,  9., 10., 11., 12.,\n",
       "        13., 14., 15., 16., 17., 18., 19., 20., 21., 22., 23., 24., 25.,\n",
       "        26., 27., 28., 29., 30.]),\n",
       " array([0. , 0. , 0. , 0. , 0. , 0. , 0. , 0. , 0. , 0. , 0.5, 0.5, 0.5,\n",
       "        0.5, 0.5, 0.5, 0.5, 0.5, 0.5, 0.5, 0. , 0. , 0. , 0. , 0. , 0. ,\n",
       "        0. , 0. , 0. , 0. , 0. ]))"
      ]
     },
     "execution_count": 4,
     "metadata": {},
     "output_type": "execute_result"
    }
   ],
   "source": [
    "times, currents = step_current(t=30, t_start=10, t_end=20, amplitude=0.5, dt=1)\n",
    "times, currents"
   ]
  },
  {
   "cell_type": "code",
   "execution_count": 5,
   "id": "e902b6ee",
   "metadata": {},
   "outputs": [
    {
     "ename": "BrianObjectException",
     "evalue": "Error encountered with object named 'neurongroup'.\nObject was created here (most recent call only, full details in debug log):\n  File '/tmp/ipykernel_13569/4131051508.py', line 24, in simulate_LIF_neuron\n    neuron = b2.NeuronGroup(\n\nAn error occurred when preparing an object. (See above for original error message and traceback.)",
     "output_type": "error",
     "traceback": [
      "\u001b[31m---------------------------------------------------------------------------\u001b[39m",
      "\u001b[31mDimensionMismatchError\u001b[39m                    Traceback (most recent call last)",
      "\u001b[36mFile \u001b[39m\u001b[32m~/Project/Spark/.env_benchmarks/lib/python3.12/site-packages/brian2/equations/equations.py:1177\u001b[39m, in \u001b[36mEquations.check_units\u001b[39m\u001b[34m(self, group, run_namespace)\u001b[39m\n\u001b[32m   1176\u001b[39m \u001b[38;5;28;01mtry\u001b[39;00m:\n\u001b[32m-> \u001b[39m\u001b[32m1177\u001b[39m     \u001b[43mcheck_dimensions\u001b[49m\u001b[43m(\u001b[49m\n\u001b[32m   1178\u001b[39m \u001b[43m        \u001b[49m\u001b[38;5;28;43mstr\u001b[39;49m\u001b[43m(\u001b[49m\u001b[43meq\u001b[49m\u001b[43m.\u001b[49m\u001b[43mexpr\u001b[49m\u001b[43m)\u001b[49m\u001b[43m,\u001b[49m\u001b[43m \u001b[49m\u001b[38;5;28;43mself\u001b[39;49m\u001b[43m.\u001b[49m\u001b[43mdimensions\u001b[49m\u001b[43m[\u001b[49m\u001b[43mvar\u001b[49m\u001b[43m]\u001b[49m\u001b[43m \u001b[49m\u001b[43m/\u001b[49m\u001b[43m \u001b[49m\u001b[43msecond\u001b[49m\u001b[43m.\u001b[49m\u001b[43mdim\u001b[49m\u001b[43m,\u001b[49m\u001b[43m \u001b[49m\u001b[43mall_variables\u001b[49m\n\u001b[32m   1179\u001b[39m \u001b[43m    \u001b[49m\u001b[43m)\u001b[49m\n\u001b[32m   1180\u001b[39m \u001b[38;5;28;01mexcept\u001b[39;00m DimensionMismatchError \u001b[38;5;28;01mas\u001b[39;00m ex:\n",
      "\u001b[36mFile \u001b[39m\u001b[32m~/Project/Spark/.env_benchmarks/lib/python3.12/site-packages/brian2/equations/unitcheck.py:41\u001b[39m, in \u001b[36mcheck_dimensions\u001b[39m\u001b[34m(expression, dimensions, variables)\u001b[39m\n\u001b[32m     20\u001b[39m \u001b[38;5;250m\u001b[39m\u001b[33;03m\"\"\"\u001b[39;00m\n\u001b[32m     21\u001b[39m \u001b[33;03mCompares the physical dimensions of an expression to expected dimensions in\u001b[39;00m\n\u001b[32m     22\u001b[39m \u001b[33;03ma given namespace.\u001b[39;00m\n\u001b[32m   (...)\u001b[39m\u001b[32m     39\u001b[39m \u001b[33;03m    If an unit mismatch occurs during the evaluation.\u001b[39;00m\n\u001b[32m     40\u001b[39m \u001b[33;03m\"\"\"\u001b[39;00m\n\u001b[32m---> \u001b[39m\u001b[32m41\u001b[39m expr_dims = \u001b[43mparse_expression_dimensions\u001b[49m\u001b[43m(\u001b[49m\u001b[43mexpression\u001b[49m\u001b[43m,\u001b[49m\u001b[43m \u001b[49m\u001b[43mvariables\u001b[49m\u001b[43m)\u001b[49m\n\u001b[32m     42\u001b[39m expected = \u001b[38;5;28mrepr\u001b[39m(get_unit(dimensions))\n",
      "\u001b[36mFile \u001b[39m\u001b[32m~/Project/Spark/.env_benchmarks/lib/python3.12/site-packages/brian2/parsing/expressions.py:358\u001b[39m, in \u001b[36mparse_expression_dimensions\u001b[39m\u001b[34m(expr, variables, orig_expr)\u001b[39m\n\u001b[32m    355\u001b[39m left_dim = parse_expression_dimensions(\n\u001b[32m    356\u001b[39m     expr.left, variables, orig_expr=orig_expr\n\u001b[32m    357\u001b[39m )\n\u001b[32m--> \u001b[39m\u001b[32m358\u001b[39m right_dim = \u001b[43mparse_expression_dimensions\u001b[49m\u001b[43m(\u001b[49m\n\u001b[32m    359\u001b[39m \u001b[43m    \u001b[49m\u001b[43mexpr\u001b[49m\u001b[43m.\u001b[49m\u001b[43mright\u001b[49m\u001b[43m,\u001b[49m\u001b[43m \u001b[49m\u001b[43mvariables\u001b[49m\u001b[43m,\u001b[49m\u001b[43m \u001b[49m\u001b[43morig_expr\u001b[49m\u001b[43m=\u001b[49m\u001b[43morig_expr\u001b[49m\n\u001b[32m    360\u001b[39m \u001b[43m\u001b[49m\u001b[43m)\u001b[49m\n\u001b[32m    361\u001b[39m \u001b[38;5;28;01mif\u001b[39;00m op \u001b[38;5;129;01min\u001b[39;00m [\u001b[33m\"\u001b[39m\u001b[33mAdd\u001b[39m\u001b[33m\"\u001b[39m, \u001b[33m\"\u001b[39m\u001b[33mSub\u001b[39m\u001b[33m\"\u001b[39m, \u001b[33m\"\u001b[39m\u001b[33mMod\u001b[39m\u001b[33m\"\u001b[39m]:\n\u001b[32m    362\u001b[39m     \u001b[38;5;66;03m# dimensions should be the same\u001b[39;00m\n",
      "\u001b[36mFile \u001b[39m\u001b[32m~/Project/Spark/.env_benchmarks/lib/python3.12/site-packages/brian2/parsing/expressions.py:355\u001b[39m, in \u001b[36mparse_expression_dimensions\u001b[39m\u001b[34m(expr, variables, orig_expr)\u001b[39m\n\u001b[32m    354\u001b[39m op = expr.op.\u001b[34m__class__\u001b[39m.\u001b[34m__name__\u001b[39m\n\u001b[32m--> \u001b[39m\u001b[32m355\u001b[39m left_dim = \u001b[43mparse_expression_dimensions\u001b[49m\u001b[43m(\u001b[49m\n\u001b[32m    356\u001b[39m \u001b[43m    \u001b[49m\u001b[43mexpr\u001b[49m\u001b[43m.\u001b[49m\u001b[43mleft\u001b[49m\u001b[43m,\u001b[49m\u001b[43m \u001b[49m\u001b[43mvariables\u001b[49m\u001b[43m,\u001b[49m\u001b[43m \u001b[49m\u001b[43morig_expr\u001b[49m\u001b[43m=\u001b[49m\u001b[43morig_expr\u001b[49m\n\u001b[32m    357\u001b[39m \u001b[43m\u001b[49m\u001b[43m)\u001b[49m\n\u001b[32m    358\u001b[39m right_dim = parse_expression_dimensions(\n\u001b[32m    359\u001b[39m     expr.right, variables, orig_expr=orig_expr\n\u001b[32m    360\u001b[39m )\n",
      "\u001b[36mFile \u001b[39m\u001b[32m~/Project/Spark/.env_benchmarks/lib/python3.12/site-packages/brian2/parsing/expressions.py:375\u001b[39m, in \u001b[36mparse_expression_dimensions\u001b[39m\u001b[34m(expr, variables, orig_expr)\u001b[39m\n\u001b[32m    369\u001b[39m     error_msg = (\n\u001b[32m    370\u001b[39m         \u001b[33mf\u001b[39m\u001b[33m\"\u001b[39m\u001b[33mExpression \u001b[39m\u001b[33m'\u001b[39m\u001b[38;5;132;01m{\u001b[39;00mleft_str\u001b[38;5;132;01m}\u001b[39;00m\u001b[33m \u001b[39m\u001b[38;5;132;01m{\u001b[39;00mop_symbol\u001b[38;5;132;01m}\u001b[39;00m\u001b[33m \u001b[39m\u001b[38;5;132;01m{\u001b[39;00mright_str\u001b[38;5;132;01m}\u001b[39;00m\u001b[33m'\u001b[39m\u001b[33m uses \u001b[39m\u001b[33m\"\u001b[39m\n\u001b[32m    371\u001b[39m         \u001b[33mf\u001b[39m\u001b[33m\"\u001b[39m\u001b[33minconsistent units (\u001b[39m\u001b[33m'\u001b[39m\u001b[38;5;132;01m{\u001b[39;00mleft_str\u001b[38;5;132;01m}\u001b[39;00m\u001b[33m'\u001b[39m\u001b[33m has unit \u001b[39m\u001b[33m\"\u001b[39m\n\u001b[32m    372\u001b[39m         \u001b[33mf\u001b[39m\u001b[33m\"\u001b[39m\u001b[38;5;132;01m{\u001b[39;00mleft_unit\u001b[38;5;132;01m}\u001b[39;00m\u001b[33m; \u001b[39m\u001b[33m'\u001b[39m\u001b[38;5;132;01m{\u001b[39;00mright_str\u001b[38;5;132;01m}\u001b[39;00m\u001b[33m'\u001b[39m\u001b[33m \u001b[39m\u001b[33m\"\u001b[39m\n\u001b[32m    373\u001b[39m         \u001b[33mf\u001b[39m\u001b[33m\"\u001b[39m\u001b[33mhas unit \u001b[39m\u001b[38;5;132;01m{\u001b[39;00mright_unit\u001b[38;5;132;01m}\u001b[39;00m\u001b[33m).\u001b[39m\u001b[33m\"\u001b[39m\n\u001b[32m    374\u001b[39m     )\n\u001b[32m--> \u001b[39m\u001b[32m375\u001b[39m     \u001b[38;5;28;01mraise\u001b[39;00m DimensionMismatchError(error_msg)\n\u001b[32m    376\u001b[39m u = left_dim\n",
      "\u001b[31mDimensionMismatchError\u001b[39m: Expression '- (v - v_rest) + membrane_resistance * input_current(t, i)' uses inconsistent units ('- (v - v_rest)' has unit V; 'membrane_resistance * input_current(t, i)' has unit ohm).",
      "\nThe above exception was the direct cause of the following exception:\n",
      "\u001b[31mDimensionMismatchError\u001b[39m                    Traceback (most recent call last)",
      "\u001b[36mFile \u001b[39m\u001b[32m~/Project/Spark/.env_benchmarks/lib/python3.12/site-packages/brian2/core/network.py:1004\u001b[39m, in \u001b[36mNetwork.before_run\u001b[39m\u001b[34m(self, run_namespace)\u001b[39m\n\u001b[32m   1003\u001b[39m \u001b[38;5;28;01mtry\u001b[39;00m:\n\u001b[32m-> \u001b[39m\u001b[32m1004\u001b[39m     \u001b[43mobj\u001b[49m\u001b[43m.\u001b[49m\u001b[43mbefore_run\u001b[49m\u001b[43m(\u001b[49m\u001b[43mrun_namespace\u001b[49m\u001b[43m)\u001b[49m\n\u001b[32m   1005\u001b[39m \u001b[38;5;28;01mexcept\u001b[39;00m \u001b[38;5;167;01mException\u001b[39;00m \u001b[38;5;28;01mas\u001b[39;00m ex:\n",
      "\u001b[36mFile \u001b[39m\u001b[32m~/Project/Spark/.env_benchmarks/lib/python3.12/site-packages/brian2/groups/neurongroup.py:867\u001b[39m, in \u001b[36mNeuronGroup.before_run\u001b[39m\u001b[34m(self, run_namespace)\u001b[39m\n\u001b[32m    865\u001b[39m \u001b[38;5;28;01mdef\u001b[39;00m\u001b[38;5;250m \u001b[39m\u001b[34mbefore_run\u001b[39m(\u001b[38;5;28mself\u001b[39m, run_namespace=\u001b[38;5;28;01mNone\u001b[39;00m):\n\u001b[32m    866\u001b[39m     \u001b[38;5;66;03m# Check units\u001b[39;00m\n\u001b[32m--> \u001b[39m\u001b[32m867\u001b[39m     \u001b[38;5;28;43mself\u001b[39;49m\u001b[43m.\u001b[49m\u001b[43mequations\u001b[49m\u001b[43m.\u001b[49m\u001b[43mcheck_units\u001b[49m\u001b[43m(\u001b[49m\u001b[38;5;28;43mself\u001b[39;49m\u001b[43m,\u001b[49m\u001b[43m \u001b[49m\u001b[43mrun_namespace\u001b[49m\u001b[43m=\u001b[49m\u001b[43mrun_namespace\u001b[49m\u001b[43m)\u001b[49m\n\u001b[32m    868\u001b[39m     \u001b[38;5;66;03m# Check that subexpressions that refer to stateful functions are labeled\u001b[39;00m\n\u001b[32m    869\u001b[39m     \u001b[38;5;66;03m# as \"constant over dt\"\u001b[39;00m\n",
      "\u001b[36mFile \u001b[39m\u001b[32m~/Project/Spark/.env_benchmarks/lib/python3.12/site-packages/brian2/equations/equations.py:1181\u001b[39m, in \u001b[36mEquations.check_units\u001b[39m\u001b[34m(self, group, run_namespace)\u001b[39m\n\u001b[32m   1180\u001b[39m     \u001b[38;5;28;01mexcept\u001b[39;00m DimensionMismatchError \u001b[38;5;28;01mas\u001b[39;00m ex:\n\u001b[32m-> \u001b[39m\u001b[32m1181\u001b[39m         \u001b[38;5;28;01mraise\u001b[39;00m DimensionMismatchError(\n\u001b[32m   1182\u001b[39m             \u001b[33m\"\u001b[39m\u001b[33mInconsistent units in \u001b[39m\u001b[33m\"\u001b[39m\n\u001b[32m   1183\u001b[39m             \u001b[33m\"\u001b[39m\u001b[33mdifferential equation \u001b[39m\u001b[33m\"\u001b[39m\n\u001b[32m   1184\u001b[39m             \u001b[33mf\u001b[39m\u001b[33m\"\u001b[39m\u001b[33mdefining variable \u001b[39m\u001b[33m'\u001b[39m\u001b[38;5;132;01m{\u001b[39;00meq.varname\u001b[38;5;132;01m}\u001b[39;00m\u001b[33m'\u001b[39m\u001b[33m:\u001b[39m\u001b[33m\"\u001b[39m\n\u001b[32m   1185\u001b[39m             \u001b[33mf\u001b[39m\u001b[33m\"\u001b[39m\u001b[38;5;130;01m\\n\u001b[39;00m\u001b[38;5;132;01m{\u001b[39;00mex.desc\u001b[38;5;132;01m}\u001b[39;00m\u001b[33m\"\u001b[39m,\n\u001b[32m   1186\u001b[39m             *ex.dims,\n\u001b[32m   1187\u001b[39m         ) \u001b[38;5;28;01mfrom\u001b[39;00m\u001b[38;5;250m \u001b[39m\u001b[34;01mex\u001b[39;00m\n\u001b[32m   1188\u001b[39m \u001b[38;5;28;01melif\u001b[39;00m eq.type == SUBEXPRESSION:\n",
      "\u001b[31mDimensionMismatchError\u001b[39m: Inconsistent units in differential equation defining variable 'v':\nExpression '- (v - v_rest) + membrane_resistance * input_current(t, i)' uses inconsistent units ('- (v - v_rest)' has unit V; 'membrane_resistance * input_current(t, i)' has unit ohm).",
      "\nThe above exception was the direct cause of the following exception:\n",
      "\u001b[31mBrianObjectException\u001b[39m                      Traceback (most recent call last)",
      "\u001b[36mCell\u001b[39m\u001b[36m \u001b[39m\u001b[32mIn[5]\u001b[39m\u001b[32m, line 6\u001b[39m\n\u001b[32m      2\u001b[39m b2_currents = _to_b2(times, currents)\n\u001b[32m      3\u001b[39m \u001b[38;5;66;03m#currents = b2.TimedArray(np.vstack([times, currents]), dt=b2.ms)\u001b[39;00m\n\u001b[32m----> \u001b[39m\u001b[32m6\u001b[39m (state_monitor,spike_monitor) = \u001b[43msimulate_LIF_neuron\u001b[49m\u001b[43m(\u001b[49m\u001b[43minput_current\u001b[49m\u001b[43m=\u001b[49m\u001b[43mb2_currents\u001b[49m\u001b[43m,\u001b[49m\u001b[43m \u001b[49m\u001b[43msimulation_time\u001b[49m\u001b[43m \u001b[49m\u001b[43m=\u001b[49m\u001b[43m \u001b[49m\u001b[32;43m100\u001b[39;49m\u001b[43m \u001b[49m\u001b[43m*\u001b[49m\u001b[43m \u001b[49m\u001b[43mb2\u001b[49m\u001b[43m.\u001b[49m\u001b[43mms\u001b[49m\u001b[43m)\u001b[49m\n",
      "\u001b[36mCell\u001b[39m\u001b[36m \u001b[39m\u001b[32mIn[3]\u001b[39m\u001b[32m, line 32\u001b[39m, in \u001b[36msimulate_LIF_neuron\u001b[39m\u001b[34m(input_current, simulation_time, v_rest, v_reset, firing_threshold, membrane_resistance, membrane_time_scale, abs_refractory_period)\u001b[39m\n\u001b[32m     30\u001b[39m spike_monitor = b2.SpikeMonitor(neuron)\n\u001b[32m     31\u001b[39m \u001b[38;5;66;03m# Simulation\u001b[39;00m\n\u001b[32m---> \u001b[39m\u001b[32m32\u001b[39m \u001b[43mb2\u001b[49m\u001b[43m.\u001b[49m\u001b[43mrun\u001b[49m\u001b[43m(\u001b[49m\u001b[43msimulation_time\u001b[49m\u001b[43m)\u001b[49m\n\u001b[32m     33\u001b[39m \u001b[38;5;28;01mreturn\u001b[39;00m state_monitor, spike_monitor\n",
      "\u001b[36mFile \u001b[39m\u001b[32m~/Project/Spark/.env_benchmarks/lib/python3.12/site-packages/brian2/units/fundamentalunits.py:2652\u001b[39m, in \u001b[36mcheck_units.<locals>.do_check_units.<locals>.new_f\u001b[39m\u001b[34m(*args, **kwds)\u001b[39m\n\u001b[32m   2642\u001b[39m             error_message = (\n\u001b[32m   2643\u001b[39m                 \u001b[33mf\u001b[39m\u001b[33m\"\u001b[39m\u001b[33mFunction \u001b[39m\u001b[33m'\u001b[39m\u001b[38;5;132;01m{\u001b[39;00mf.\u001b[34m__name__\u001b[39m\u001b[38;5;132;01m}\u001b[39;00m\u001b[33m'\u001b[39m\u001b[33m \u001b[39m\u001b[33m\"\u001b[39m\n\u001b[32m   2644\u001b[39m                 \u001b[33m\"\u001b[39m\u001b[33mexpected a quantity with unit \u001b[39m\u001b[33m\"\u001b[39m\n\u001b[32m   2645\u001b[39m                 \u001b[33mf\u001b[39m\u001b[33m\"\u001b[39m\u001b[38;5;132;01m{\u001b[39;00munit\u001b[38;5;132;01m}\u001b[39;00m\u001b[33m for argument \u001b[39m\u001b[33m'\u001b[39m\u001b[38;5;132;01m{\u001b[39;00mk\u001b[38;5;132;01m}\u001b[39;00m\u001b[33m'\u001b[39m\u001b[33m but got \u001b[39m\u001b[33m\"\u001b[39m\n\u001b[32m   2646\u001b[39m                 \u001b[33mf\u001b[39m\u001b[33m\"\u001b[39m\u001b[33m'\u001b[39m\u001b[38;5;132;01m{\u001b[39;00mvalue\u001b[38;5;132;01m}\u001b[39;00m\u001b[33m'\u001b[39m\u001b[33m\"\u001b[39m\n\u001b[32m   2647\u001b[39m             )\n\u001b[32m   2648\u001b[39m             \u001b[38;5;28;01mraise\u001b[39;00m DimensionMismatchError(\n\u001b[32m   2649\u001b[39m                 error_message, get_dimensions(newkeyset[k])\n\u001b[32m   2650\u001b[39m             )\n\u001b[32m-> \u001b[39m\u001b[32m2652\u001b[39m result = \u001b[43mf\u001b[49m\u001b[43m(\u001b[49m\u001b[43m*\u001b[49m\u001b[43margs\u001b[49m\u001b[43m,\u001b[49m\u001b[43m \u001b[49m\u001b[43m*\u001b[49m\u001b[43m*\u001b[49m\u001b[43mkwds\u001b[49m\u001b[43m)\u001b[49m\n\u001b[32m   2653\u001b[39m \u001b[38;5;28;01mif\u001b[39;00m \u001b[33m\"\u001b[39m\u001b[33mresult\u001b[39m\u001b[33m\"\u001b[39m \u001b[38;5;129;01min\u001b[39;00m au:\n\u001b[32m   2654\u001b[39m     \u001b[38;5;28;01mif\u001b[39;00m \u001b[38;5;28misinstance\u001b[39m(au[\u001b[33m\"\u001b[39m\u001b[33mresult\u001b[39m\u001b[33m\"\u001b[39m], Callable) \u001b[38;5;129;01mand\u001b[39;00m au[\u001b[33m\"\u001b[39m\u001b[33mresult\u001b[39m\u001b[33m\"\u001b[39m] \u001b[38;5;129;01mnot\u001b[39;00m \u001b[38;5;129;01min\u001b[39;00m (\n\u001b[32m   2655\u001b[39m         \u001b[38;5;28mbool\u001b[39m,\n\u001b[32m   2656\u001b[39m         np.bool_,\n\u001b[32m   2657\u001b[39m     ):\n",
      "\u001b[36mFile \u001b[39m\u001b[32m~/Project/Spark/.env_benchmarks/lib/python3.12/site-packages/brian2/core/magic.py:407\u001b[39m, in \u001b[36mrun\u001b[39m\u001b[34m(duration, report, report_period, namespace, profile, level)\u001b[39m\n\u001b[32m    334\u001b[39m \u001b[38;5;129m@check_units\u001b[39m(duration=second, report_period=second)\n\u001b[32m    335\u001b[39m \u001b[38;5;28;01mdef\u001b[39;00m\u001b[38;5;250m \u001b[39m\u001b[34mrun\u001b[39m(\n\u001b[32m    336\u001b[39m     duration,\n\u001b[32m   (...)\u001b[39m\u001b[32m    341\u001b[39m     level=\u001b[32m0\u001b[39m,\n\u001b[32m    342\u001b[39m ):\n\u001b[32m    343\u001b[39m \u001b[38;5;250m    \u001b[39m\u001b[33;03m\"\"\"\u001b[39;00m\n\u001b[32m    344\u001b[39m \u001b[33;03m    run(duration, report=None, report_period=10*second, namespace=None, level=0)\u001b[39;00m\n\u001b[32m    345\u001b[39m \n\u001b[32m   (...)\u001b[39m\u001b[32m    405\u001b[39m \u001b[33;03m        intended use. See `MagicNetwork` for more details.\u001b[39;00m\n\u001b[32m    406\u001b[39m \u001b[33;03m    \"\"\"\u001b[39;00m\n\u001b[32m--> \u001b[39m\u001b[32m407\u001b[39m     \u001b[38;5;28;01mreturn\u001b[39;00m \u001b[43mmagic_network\u001b[49m\u001b[43m.\u001b[49m\u001b[43mrun\u001b[49m\u001b[43m(\u001b[49m\n\u001b[32m    408\u001b[39m \u001b[43m        \u001b[49m\u001b[43mduration\u001b[49m\u001b[43m,\u001b[49m\n\u001b[32m    409\u001b[39m \u001b[43m        \u001b[49m\u001b[43mreport\u001b[49m\u001b[43m=\u001b[49m\u001b[43mreport\u001b[49m\u001b[43m,\u001b[49m\n\u001b[32m    410\u001b[39m \u001b[43m        \u001b[49m\u001b[43mreport_period\u001b[49m\u001b[43m=\u001b[49m\u001b[43mreport_period\u001b[49m\u001b[43m,\u001b[49m\n\u001b[32m    411\u001b[39m \u001b[43m        \u001b[49m\u001b[43mnamespace\u001b[49m\u001b[43m=\u001b[49m\u001b[43mnamespace\u001b[49m\u001b[43m,\u001b[49m\n\u001b[32m    412\u001b[39m \u001b[43m        \u001b[49m\u001b[43mprofile\u001b[49m\u001b[43m=\u001b[49m\u001b[43mprofile\u001b[49m\u001b[43m,\u001b[49m\n\u001b[32m    413\u001b[39m \u001b[43m        \u001b[49m\u001b[43mlevel\u001b[49m\u001b[43m=\u001b[49m\u001b[32;43m2\u001b[39;49m\u001b[43m \u001b[49m\u001b[43m+\u001b[49m\u001b[43m \u001b[49m\u001b[43mlevel\u001b[49m\u001b[43m,\u001b[49m\n\u001b[32m    414\u001b[39m \u001b[43m    \u001b[49m\u001b[43m)\u001b[49m\n",
      "\u001b[36mFile \u001b[39m\u001b[32m~/Project/Spark/.env_benchmarks/lib/python3.12/site-packages/brian2/core/magic.py:248\u001b[39m, in \u001b[36mMagicNetwork.run\u001b[39m\u001b[34m(self, duration, report, report_period, namespace, profile, level)\u001b[39m\n\u001b[32m    238\u001b[39m \u001b[38;5;28;01mdef\u001b[39;00m\u001b[38;5;250m \u001b[39m\u001b[34mrun\u001b[39m(\n\u001b[32m    239\u001b[39m     \u001b[38;5;28mself\u001b[39m,\n\u001b[32m    240\u001b[39m     duration,\n\u001b[32m   (...)\u001b[39m\u001b[32m    245\u001b[39m     level=\u001b[32m0\u001b[39m,\n\u001b[32m    246\u001b[39m ):\n\u001b[32m    247\u001b[39m     \u001b[38;5;28mself\u001b[39m._update_magic_objects(level=level + \u001b[32m1\u001b[39m)\n\u001b[32m--> \u001b[39m\u001b[32m248\u001b[39m     \u001b[43mNetwork\u001b[49m\u001b[43m.\u001b[49m\u001b[43mrun\u001b[49m\u001b[43m(\u001b[49m\n\u001b[32m    249\u001b[39m \u001b[43m        \u001b[49m\u001b[38;5;28;43mself\u001b[39;49m\u001b[43m,\u001b[49m\n\u001b[32m    250\u001b[39m \u001b[43m        \u001b[49m\u001b[43mduration\u001b[49m\u001b[43m,\u001b[49m\n\u001b[32m    251\u001b[39m \u001b[43m        \u001b[49m\u001b[43mreport\u001b[49m\u001b[43m=\u001b[49m\u001b[43mreport\u001b[49m\u001b[43m,\u001b[49m\n\u001b[32m    252\u001b[39m \u001b[43m        \u001b[49m\u001b[43mreport_period\u001b[49m\u001b[43m=\u001b[49m\u001b[43mreport_period\u001b[49m\u001b[43m,\u001b[49m\n\u001b[32m    253\u001b[39m \u001b[43m        \u001b[49m\u001b[43mnamespace\u001b[49m\u001b[43m=\u001b[49m\u001b[43mnamespace\u001b[49m\u001b[43m,\u001b[49m\n\u001b[32m    254\u001b[39m \u001b[43m        \u001b[49m\u001b[43mprofile\u001b[49m\u001b[43m=\u001b[49m\u001b[43mprofile\u001b[49m\u001b[43m,\u001b[49m\n\u001b[32m    255\u001b[39m \u001b[43m        \u001b[49m\u001b[43mlevel\u001b[49m\u001b[43m=\u001b[49m\u001b[43mlevel\u001b[49m\u001b[43m \u001b[49m\u001b[43m+\u001b[49m\u001b[43m \u001b[49m\u001b[32;43m1\u001b[39;49m\u001b[43m,\u001b[49m\n\u001b[32m    256\u001b[39m \u001b[43m    \u001b[49m\u001b[43m)\u001b[49m\n",
      "\u001b[36mFile \u001b[39m\u001b[32m~/Project/Spark/.env_benchmarks/lib/python3.12/site-packages/brian2/core/base.py:346\u001b[39m, in \u001b[36mdevice_override.<locals>.device_override_decorator.<locals>.device_override_decorated_function\u001b[39m\u001b[34m(*args, **kwds)\u001b[39m\n\u001b[32m    344\u001b[39m     \u001b[38;5;28;01mreturn\u001b[39;00m \u001b[38;5;28mgetattr\u001b[39m(curdev, name)(*args, **kwds)\n\u001b[32m    345\u001b[39m \u001b[38;5;28;01melse\u001b[39;00m:\n\u001b[32m--> \u001b[39m\u001b[32m346\u001b[39m     \u001b[38;5;28;01mreturn\u001b[39;00m \u001b[43mfunc\u001b[49m\u001b[43m(\u001b[49m\u001b[43m*\u001b[49m\u001b[43margs\u001b[49m\u001b[43m,\u001b[49m\u001b[43m \u001b[49m\u001b[43m*\u001b[49m\u001b[43m*\u001b[49m\u001b[43mkwds\u001b[49m\u001b[43m)\u001b[49m\n",
      "\u001b[36mFile \u001b[39m\u001b[32m~/Project/Spark/.env_benchmarks/lib/python3.12/site-packages/brian2/units/fundamentalunits.py:2652\u001b[39m, in \u001b[36mcheck_units.<locals>.do_check_units.<locals>.new_f\u001b[39m\u001b[34m(*args, **kwds)\u001b[39m\n\u001b[32m   2642\u001b[39m             error_message = (\n\u001b[32m   2643\u001b[39m                 \u001b[33mf\u001b[39m\u001b[33m\"\u001b[39m\u001b[33mFunction \u001b[39m\u001b[33m'\u001b[39m\u001b[38;5;132;01m{\u001b[39;00mf.\u001b[34m__name__\u001b[39m\u001b[38;5;132;01m}\u001b[39;00m\u001b[33m'\u001b[39m\u001b[33m \u001b[39m\u001b[33m\"\u001b[39m\n\u001b[32m   2644\u001b[39m                 \u001b[33m\"\u001b[39m\u001b[33mexpected a quantity with unit \u001b[39m\u001b[33m\"\u001b[39m\n\u001b[32m   2645\u001b[39m                 \u001b[33mf\u001b[39m\u001b[33m\"\u001b[39m\u001b[38;5;132;01m{\u001b[39;00munit\u001b[38;5;132;01m}\u001b[39;00m\u001b[33m for argument \u001b[39m\u001b[33m'\u001b[39m\u001b[38;5;132;01m{\u001b[39;00mk\u001b[38;5;132;01m}\u001b[39;00m\u001b[33m'\u001b[39m\u001b[33m but got \u001b[39m\u001b[33m\"\u001b[39m\n\u001b[32m   2646\u001b[39m                 \u001b[33mf\u001b[39m\u001b[33m\"\u001b[39m\u001b[33m'\u001b[39m\u001b[38;5;132;01m{\u001b[39;00mvalue\u001b[38;5;132;01m}\u001b[39;00m\u001b[33m'\u001b[39m\u001b[33m\"\u001b[39m\n\u001b[32m   2647\u001b[39m             )\n\u001b[32m   2648\u001b[39m             \u001b[38;5;28;01mraise\u001b[39;00m DimensionMismatchError(\n\u001b[32m   2649\u001b[39m                 error_message, get_dimensions(newkeyset[k])\n\u001b[32m   2650\u001b[39m             )\n\u001b[32m-> \u001b[39m\u001b[32m2652\u001b[39m result = \u001b[43mf\u001b[49m\u001b[43m(\u001b[49m\u001b[43m*\u001b[49m\u001b[43margs\u001b[49m\u001b[43m,\u001b[49m\u001b[43m \u001b[49m\u001b[43m*\u001b[49m\u001b[43m*\u001b[49m\u001b[43mkwds\u001b[49m\u001b[43m)\u001b[49m\n\u001b[32m   2653\u001b[39m \u001b[38;5;28;01mif\u001b[39;00m \u001b[33m\"\u001b[39m\u001b[33mresult\u001b[39m\u001b[33m\"\u001b[39m \u001b[38;5;129;01min\u001b[39;00m au:\n\u001b[32m   2654\u001b[39m     \u001b[38;5;28;01mif\u001b[39;00m \u001b[38;5;28misinstance\u001b[39m(au[\u001b[33m\"\u001b[39m\u001b[33mresult\u001b[39m\u001b[33m\"\u001b[39m], Callable) \u001b[38;5;129;01mand\u001b[39;00m au[\u001b[33m\"\u001b[39m\u001b[33mresult\u001b[39m\u001b[33m\"\u001b[39m] \u001b[38;5;129;01mnot\u001b[39;00m \u001b[38;5;129;01min\u001b[39;00m (\n\u001b[32m   2655\u001b[39m         \u001b[38;5;28mbool\u001b[39m,\n\u001b[32m   2656\u001b[39m         np.bool_,\n\u001b[32m   2657\u001b[39m     ):\n",
      "\u001b[36mFile \u001b[39m\u001b[32m~/Project/Spark/.env_benchmarks/lib/python3.12/site-packages/brian2/core/network.py:1151\u001b[39m, in \u001b[36mNetwork.run\u001b[39m\u001b[34m(self, duration, report, report_period, namespace, profile, level)\u001b[39m\n\u001b[32m   1148\u001b[39m \u001b[38;5;28;01mif\u001b[39;00m namespace \u001b[38;5;129;01mis\u001b[39;00m \u001b[38;5;28;01mNone\u001b[39;00m:\n\u001b[32m   1149\u001b[39m     namespace = get_local_namespace(level=level + \u001b[32m3\u001b[39m)\n\u001b[32m-> \u001b[39m\u001b[32m1151\u001b[39m \u001b[38;5;28;43mself\u001b[39;49m\u001b[43m.\u001b[49m\u001b[43mbefore_run\u001b[49m\u001b[43m(\u001b[49m\u001b[43mnamespace\u001b[49m\u001b[43m)\u001b[49m\n\u001b[32m   1153\u001b[39m \u001b[38;5;28;01mif\u001b[39;00m \u001b[38;5;28mlen\u001b[39m(all_objects) == \u001b[32m0\u001b[39m:\n\u001b[32m   1154\u001b[39m     \u001b[38;5;28;01mreturn\u001b[39;00m  \u001b[38;5;66;03m# TODO: raise an error? warning?\u001b[39;00m\n",
      "\u001b[36mFile \u001b[39m\u001b[32m~/Project/Spark/.env_benchmarks/lib/python3.12/site-packages/brian2/core/base.py:346\u001b[39m, in \u001b[36mdevice_override.<locals>.device_override_decorator.<locals>.device_override_decorated_function\u001b[39m\u001b[34m(*args, **kwds)\u001b[39m\n\u001b[32m    344\u001b[39m     \u001b[38;5;28;01mreturn\u001b[39;00m \u001b[38;5;28mgetattr\u001b[39m(curdev, name)(*args, **kwds)\n\u001b[32m    345\u001b[39m \u001b[38;5;28;01melse\u001b[39;00m:\n\u001b[32m--> \u001b[39m\u001b[32m346\u001b[39m     \u001b[38;5;28;01mreturn\u001b[39;00m \u001b[43mfunc\u001b[49m\u001b[43m(\u001b[49m\u001b[43m*\u001b[49m\u001b[43margs\u001b[49m\u001b[43m,\u001b[49m\u001b[43m \u001b[49m\u001b[43m*\u001b[49m\u001b[43m*\u001b[49m\u001b[43mkwds\u001b[49m\u001b[43m)\u001b[49m\n",
      "\u001b[36mFile \u001b[39m\u001b[32m~/Project/Spark/.env_benchmarks/lib/python3.12/site-packages/brian2/core/network.py:1006\u001b[39m, in \u001b[36mNetwork.before_run\u001b[39m\u001b[34m(self, run_namespace)\u001b[39m\n\u001b[32m   1004\u001b[39m             obj.before_run(run_namespace)\n\u001b[32m   1005\u001b[39m         \u001b[38;5;28;01mexcept\u001b[39;00m \u001b[38;5;167;01mException\u001b[39;00m \u001b[38;5;28;01mas\u001b[39;00m ex:\n\u001b[32m-> \u001b[39m\u001b[32m1006\u001b[39m             \u001b[38;5;28;01mraise\u001b[39;00m BrianObjectException(\n\u001b[32m   1007\u001b[39m                 \u001b[33m\"\u001b[39m\u001b[33mAn error occurred when preparing an object.\u001b[39m\u001b[33m\"\u001b[39m, obj\n\u001b[32m   1008\u001b[39m             ) \u001b[38;5;28;01mfrom\u001b[39;00m\u001b[38;5;250m \u001b[39m\u001b[34;01mex\u001b[39;00m\n\u001b[32m   1010\u001b[39m \u001b[38;5;66;03m# Check that no object has been run as part of another network before\u001b[39;00m\n\u001b[32m   1011\u001b[39m \u001b[38;5;28;01mfor\u001b[39;00m obj \u001b[38;5;129;01min\u001b[39;00m all_objects:\n",
      "\u001b[31mBrianObjectException\u001b[39m: Error encountered with object named 'neurongroup'.\nObject was created here (most recent call only, full details in debug log):\n  File '/tmp/ipykernel_13569/4131051508.py', line 24, in simulate_LIF_neuron\n    neuron = b2.NeuronGroup(\n\nAn error occurred when preparing an object. (See above for original error message and traceback.)"
     ]
    }
   ],
   "source": [
    "times, currents = step_current(t=30, t_start=10, t_end=20, amplitude=0.5, dt=1)\n",
    "b2_currents = _to_b2(times, currents)\n",
    "#currents = b2.TimedArray(np.vstack([times, currents]), dt=b2.ms)\n",
    "\n",
    "\n",
    "(state_monitor,spike_monitor) = simulate_LIF_neuron(input_current=b2_currents, simulation_time = 100 * b2.ms)"
   ]
  },
  {
   "cell_type": "code",
   "execution_count": null,
   "id": "95390a16",
   "metadata": {},
   "outputs": [],
   "source": []
  },
  {
   "cell_type": "code",
   "execution_count": null,
   "id": "5a3d0523",
   "metadata": {},
   "outputs": [],
   "source": [
    "import numpy as np\n",
    "import brian2 as b2\n",
    "import matplotlib.pyplot as plt\n",
    "\n",
    "def step_current(\n",
    "        t: float, # [ms]\n",
    "        t_start: float, # [ms]\n",
    "        t_end: float, # [ms]\n",
    "        amplitude: float, # [nA] \n",
    "        dt: float=1.0 # [ms]\n",
    "    ):\n",
    "    assert t >= t_end and t_end > t_start and t_start >= 0\n",
    "    assert dt > 0\n",
    "    _t = int(round(t / dt)) + 1\n",
    "    _t_start = int(round(t_start / dt))\n",
    "    _t_end = int(round(t_end / dt))\n",
    "    currents = np.zeros((_t,))\n",
    "    currents[_t_start:_t_end] = amplitude\n",
    "    times = np.linspace(0, t, len(currents))\n",
    "    return times, currents\n",
    "\n",
    "def _to_b2(times, currents):\n",
    "    return b2.TimedArray(np.vstack([times, currents]), dt=b2.ms)\n",
    "\n",
    "# Neuron model default values\n",
    "V_REST = -70 * b2.mV\n",
    "V_RESET = -65 * b2.mV\n",
    "FIRING_THRESHOLD = -50 * b2.mV\n",
    "MEMBRANE_RESISTANCE = 10. * b2.Mohm\n",
    "MEMBRANE_TIME_SCALE = 8. * b2.ms\n",
    "ABSOLUTE_REFRACTORY_PERIOD = 2.0 * b2.ms\n",
    "\n",
    "def simulate_LIF_neuron(input_current,\n",
    "                        simulation_time=5 * b2.ms,\n",
    "                        v_rest=V_REST,\n",
    "                        v_reset=V_RESET,\n",
    "                        firing_threshold=FIRING_THRESHOLD,\n",
    "                        membrane_resistance=MEMBRANE_RESISTANCE,\n",
    "                        membrane_time_scale=MEMBRANE_TIME_SCALE,\n",
    "                        abs_refractory_period=ABSOLUTE_REFRACTORY_PERIOD):\n",
    "    \"\"\"\n",
    "        Basic leaky integrate and fire neuron implementation.\n",
    "    \"\"\"\n",
    "    # Leaky Integrate-and-Fire model\n",
    "    eqs = \"\"\"\n",
    "    dv/dt =\n",
    "    ( -(v-v_rest) + membrane_resistance * input_current(t,i) ) / membrane_time_scale : volt (unless refractory)\"\"\"\n",
    "    neuron = b2.NeuronGroup(\n",
    "        1, model=eqs, reset=\"v=v_reset\", threshold=\"v>firing_threshold\",\n",
    "        refractory=abs_refractory_period, method=\"linear\")\n",
    "    neuron.v = v_rest  # set initial value\n",
    "    # monitoring membrane potential of neuron and injecting current\n",
    "    state_monitor = b2.StateMonitor(neuron, [\"v\"], record=True)\n",
    "    spike_monitor = b2.SpikeMonitor(neuron)\n",
    "    # Simulation\n",
    "    b2.run(simulation_time)\n",
    "    return state_monitor, spike_monitor\n"
   ]
  },
  {
   "cell_type": "code",
   "execution_count": 17,
   "id": "21f46571",
   "metadata": {},
   "outputs": [
    {
     "data": {
      "image/png": "[encoded data removed]",
      "text/plain": [
       "<Figure size 800x400 with 2 Axes>"
      ]
     },
     "metadata": {},
     "output_type": "display_data"
    }
   ],
   "source": [
    "import numpy as np\n",
    "import brian2 as b2\n",
    "import matplotlib.pyplot as plt\n",
    "\n",
    "\n",
    "def step_current(\n",
    "        t: float, # [ms]\n",
    "        t_start: float, # [ms]\n",
    "        t_end: float, # [ms]\n",
    "        amplitude: float, # [nA] \n",
    "        dt: float=1.0 # [ms]\n",
    "    ):\n",
    "    assert t >= t_end > t_start >= 0\n",
    "    assert dt > 0\n",
    "    _t = int(round(t / dt)) + 1\n",
    "    _t_start = int(round(t_start / dt))\n",
    "    _t_end = int(round(t_end / dt))\n",
    "    currents = np.zeros((_t,))\n",
    "    currents[_t_start:_t_end] = amplitude\n",
    "    times = np.linspace(0, t, len(currents))\n",
    "    return times, currents\n",
    "\n",
    "# Neuron model default values\n",
    "V_REST = -70 * b2.mV\n",
    "V_RESET = -65 * b2.mV\n",
    "FIRING_THRESHOLD = -50 * b2.mV\n",
    "MEMBRANE_RESISTANCE = 10. * b2.Mohm\n",
    "MEMBRANE_TIME_SCALE = 8. * b2.ms\n",
    "ABSOLUTE_REFRACTORY_PERIOD = 2.0 * b2.ms\n",
    "\n",
    "def simulate_LIF_neuron(\n",
    "        times, \n",
    "        currents,\n",
    "        v_rest=-70 * b2.mV,\n",
    "        v_reset=-65 * b2.mV,\n",
    "        firing_threshold=-50 * b2.mV,\n",
    "        membrane_resistance=10. * b2.Mohm,\n",
    "        membrane_time_scale=8. * b2.ms,\n",
    "        abs_refractory_period=2.0 * b2.ms\n",
    "        ):\n",
    "    \n",
    "    \"\"\"\n",
    "        Simulate a basic LIF neuron given an external current.\n",
    "    \"\"\"\n",
    "    b2.start_scope()\n",
    "\n",
    "    dt = times[1] - times[0]\n",
    "    input_current = b2.TimedArray(currents * b2.nA, dt=dt * b2.ms)\n",
    "\n",
    "    eqs = \"\"\"\n",
    "    dv/dt = (-(v - v_rest) + membrane_resistance * input_current(t)) / membrane_time_scale : volt (unless refractory)\n",
    "    \"\"\"\n",
    "\n",
    "    neuron = b2.NeuronGroup(\n",
    "        N=1, \n",
    "        model=eqs, \n",
    "        reset=\"v=v_reset\", \n",
    "        threshold=\"v>firing_threshold\",\n",
    "        refractory=abs_refractory_period, \n",
    "        method=\"linear\"\n",
    "    )\n",
    "    neuron.v = v_rest\n",
    "\n",
    "    state_monitor = b2.StateMonitor(neuron, \"v\", record=True)\n",
    "    spike_monitor = b2.SpikeMonitor(neuron)\n",
    "\n",
    "    b2.run(times[-1] * b2.ms)\n",
    "    return state_monitor, spike_monitor\n",
    "\n",
    "\n",
    "# ---- Example Usage ----\n",
    "times, currents = step_current(100, 25, 75, amplitude=3.0, dt=0.1)\n",
    "state_monitor, spike_monitor = simulate_LIF_neuron(times, currents)\n",
    "\n",
    "plt.figure(figsize=(8, 4))\n",
    "plt.subplot(2, 1, 1)\n",
    "plt.plot(times, currents)\n",
    "plt.ylabel(\"Current (nA)\")\n",
    "plt.subplot(2, 1, 2)\n",
    "plt.plot(state_monitor.t / b2.ms, state_monitor.v[0] / b2.mV)\n",
    "plt.xlabel(\"Time (ms)\")\n",
    "plt.ylabel(\"Membrane potential (mV)\")\n",
    "plt.tight_layout()\n",
    "plt.show()\n"
   ]
  },
  {
   "cell_type": "code",
   "execution_count": 3,
   "id": "266dc92d",
   "metadata": {},
   "outputs": [
    {
     "data": {
      "text/plain": [
       "{'__config_delimiter__': str,\n",
       " '__shared_config_delimiter__': str,\n",
       " '__graph_editor_metadata__': dict,\n",
       " 'seed': int,\n",
       " 'dtype': typing.Union[str, type[typing.Any], numpy.dtype, jax._src.typing.SupportsDType],\n",
       " 'dt': float,\n",
       " 'units': tuple[int, ...],\n",
       " 'max_delay': float,\n",
       " 'inhibitory_rate': float,\n",
       " 'async_spikes': bool,\n",
       " 'soma_config': spark.nn.components.somas.leaky.LeakySomaConfig,\n",
       " 'synapses_config': spark.nn.components.synapses.base.SynanpsesConfig,\n",
       " 'delays_config': spark.nn.components.delays.base.DelaysConfig | None,\n",
       " 'learning_rule_config': spark.nn.components.learning_rules.base.LearningRuleConfig | None}"
      ]
     },
     "execution_count": 3,
     "metadata": {},
     "output_type": "execute_result"
    }
   ],
   "source": [
    "import typing as tp\n",
    "\n",
    "tp.get_type_hints(spark.nn.neurons.LIFNeuronConfig)"
   ]
  },
  {
   "cell_type": "code",
   "execution_count": 21,
   "id": "70224635",
   "metadata": {},
   "outputs": [
    {
     "data": {
      "text/plain": [
       "3"
      ]
     },
     "execution_count": 21,
     "metadata": {},
     "output_type": "execute_result"
    }
   ],
   "source": [
    "a, b = [False,False,False,True,False], [1,2,3,4,5]\n",
    "\n",
    "a.index(True)"
   ]
  },
  {
   "cell_type": "code",
   "execution_count": 18,
   "id": "3470761b",
   "metadata": {},
   "outputs": [
    {
     "ename": "TypeError",
     "evalue": "It is not possible to automatically resolve config initialization. Only one SparkConfig class per field annotation can be used to allow for automatic initialization. If this is inteded, define a default_factory or provide a SparkConfig to the parent initializer. ",
     "output_type": "error",
     "traceback": [
      "\u001b[31m---------------------------------------------------------------------------\u001b[39m",
      "\u001b[31mTypeError\u001b[39m                                 Traceback (most recent call last)",
      "\u001b[36mCell\u001b[39m\u001b[36m \u001b[39m\u001b[32mIn[18]\u001b[39m\u001b[32m, line 1\u001b[39m\n\u001b[32m----> \u001b[39m\u001b[32m1\u001b[39m \u001b[38;5;28;01mraise\u001b[39;00m \u001b[38;5;167;01mTypeError\u001b[39;00m(\n\u001b[32m      2\u001b[39m     \u001b[33mf\u001b[39m\u001b[33m'\u001b[39m\u001b[33mIt is not possible to automatically resolve config initialization. \u001b[39m\u001b[33m'\u001b[39m \\\n\u001b[32m      3\u001b[39m     \u001b[33mf\u001b[39m\u001b[33m'\u001b[39m\u001b[33mOnly one SparkConfig class per field annotation can be used to allow for automatic initialization. \u001b[39m\u001b[33m'\u001b[39m \\\n\u001b[32m      4\u001b[39m     \u001b[33mf\u001b[39m\u001b[33m'\u001b[39m\u001b[33mIf this is inteded, define a default_factory or provide a SparkConfig to the parent initializer. \u001b[39m\u001b[33m'\u001b[39m\n\u001b[32m      5\u001b[39m )\n",
      "\u001b[31mTypeError\u001b[39m: It is not possible to automatically resolve config initialization. Only one SparkConfig class per field annotation can be used to allow for automatic initialization. If this is inteded, define a default_factory or provide a SparkConfig to the parent initializer. "
     ]
    }
   ],
   "source": [
    "raise TypeError(\n",
    "    f'It is not possible to automatically resolve config initialization. ' \\\n",
    "    f'Only one SparkConfig class per field annotation can be used to allow for automatic initialization. ' \\\n",
    "    f'If this is inteded, define a default_factory or provide a SparkConfig to the parent initializer. '\n",
    ")"
   ]
  },
  {
   "cell_type": "code",
   "execution_count": 12,
   "id": "b58160ec",
   "metadata": {},
   "outputs": [
    {
     "data": {
      "text/plain": [
       "[True, False]"
      ]
     },
     "execution_count": 12,
     "metadata": {},
     "output_type": "execute_result"
    }
   ],
   "source": [
    "field_type = (spark.nn.components.learning_rules.base.LearningRuleConfig, type(None))\n",
    "[isinstance(t, type) and issubclass(t, spark.core.config.BaseSparkConfig) for t in field_type]"
   ]
  },
  {
   "cell_type": "code",
   "execution_count": 17,
   "id": "81afe927",
   "metadata": {},
   "outputs": [
    {
     "data": {
      "text/plain": [
       "2"
      ]
     },
     "execution_count": 17,
     "metadata": {},
     "output_type": "execute_result"
    }
   ],
   "source": [
    "x = None\n",
    "sum([True, False, True])"
   ]
  },
  {
   "cell_type": "code",
   "execution_count": 1,
   "id": "c817d584",
   "metadata": {},
   "outputs": [
    {
     "data": {
      "text/plain": [
       "[CudaDevice(id=0)]"
      ]
     },
     "execution_count": 1,
     "metadata": {},
     "output_type": "execute_result"
    }
   ],
   "source": [
    "import jax\n",
    "\n",
    "jax.devices()"
   ]
  },
  {
   "cell_type": "code",
   "execution_count": 2,
   "id": "eeb9b7e8",
   "metadata": {},
   "outputs": [
    {
     "ename": "NameError",
     "evalue": "name 'step_current' is not defined",
     "output_type": "error",
     "traceback": [
      "\u001b[0;31m---------------------------------------------------------------------------\u001b[0m",
      "\u001b[0;31mNameError\u001b[0m                                 Traceback (most recent call last)",
      "Cell \u001b[0;32mIn[2], line 34\u001b[0m\n\u001b[1;32m     21\u001b[0m lif_neuron \u001b[38;5;241m=\u001b[39m spark\u001b[38;5;241m.\u001b[39mnn\u001b[38;5;241m.\u001b[39mneurons\u001b[38;5;241m.\u001b[39mLIFNeuron(\n\u001b[1;32m     22\u001b[0m     _s_units \u001b[38;5;241m=\u001b[39m (\u001b[38;5;241m1\u001b[39m,),\n\u001b[1;32m     23\u001b[0m     async_spikes \u001b[38;5;241m=\u001b[39m \u001b[38;5;28;01mFalse\u001b[39;00m,\n\u001b[0;32m   (...)\u001b[0m\n\u001b[1;32m     27\u001b[0m     learning_rule_config \u001b[38;5;241m=\u001b[39m \u001b[38;5;28;01mNone\u001b[39;00m,\n\u001b[1;32m     28\u001b[0m )\n\u001b[1;32m     29\u001b[0m lif_neuron(in_spikes\u001b[38;5;241m=\u001b[39mspark\u001b[38;5;241m.\u001b[39mSpikeArray( jnp\u001b[38;5;241m.\u001b[39mzeros((\u001b[38;5;241m1\u001b[39m,)) ))\n\u001b[0;32m---> 34\u001b[0m times, currents \u001b[38;5;241m=\u001b[39m \u001b[43mstep_current\u001b[49m(\u001b[38;5;241m100\u001b[39m, \u001b[38;5;241m25\u001b[39m, \u001b[38;5;241m75\u001b[39m, amplitude\u001b[38;5;241m=\u001b[39m\u001b[38;5;241m3.0\u001b[39m, dt\u001b[38;5;241m=\u001b[39m\u001b[38;5;241m0.1\u001b[39m)\n\u001b[1;32m     35\u001b[0m graph, state \u001b[38;5;241m=\u001b[39m spark\u001b[38;5;241m.\u001b[39msplit((lif_neuron))\n\u001b[1;32m     37\u001b[0m spike_times \u001b[38;5;241m=\u001b[39m [\u001b[38;5;241m10\u001b[39m, \u001b[38;5;241m20\u001b[39m, \u001b[38;5;241m30\u001b[39m, \u001b[38;5;241m31\u001b[39m, \u001b[38;5;241m32\u001b[39m, \u001b[38;5;241m33\u001b[39m, \u001b[38;5;241m34\u001b[39m, \u001b[38;5;241m35\u001b[39m, \u001b[38;5;241m70\u001b[39m]\n",
      "\u001b[0;31mNameError\u001b[0m: name 'step_current' is not defined"
     ]
    }
   ],
   "source": [
    "import sys\n",
    "sys.path.append('..')\n",
    "import jax\n",
    "import jax.numpy as jnp\n",
    "import numpy as np\n",
    "import spark\n",
    "import matplotlib.pyplot as plt\n",
    "\n",
    "@jax.jit\n",
    "def run_model_split(graph, state, **inputs):\n",
    "\tmodel = spark.merge(graph, state)\n",
    "\toutputs = model(**inputs)\n",
    "\t_, state = spark.split((model))\n",
    "\treturn outputs, state\n",
    "\n",
    "synapses_config = spark.nn.synapses.LinearSynapsesConfig(\n",
    "    units = (1,),\n",
    "    async_spikes = False,\n",
    "    kernel_initializer = spark.nn.initializers.ConstantInitializerConfig(scale=5000.0),\n",
    ")\n",
    "lif_neuron = spark.nn.neurons.LIFNeuron(\n",
    "    _s_units = (1,),\n",
    "    async_spikes = False,\n",
    "    inhibitory_rate = 0.0,\n",
    "    delays_config = None,\n",
    "\tsynapses_config = synapses_config,\n",
    "    learning_rule_config = None,\n",
    ")\n",
    "lif_neuron(in_spikes=spark.SpikeArray( jnp.zeros((1,)) ))\n",
    "\n",
    "\n",
    "\n",
    "\n",
    "times, currents = step_current(100, 25, 75, amplitude=3.0, dt=0.1)\n",
    "graph, state = spark.split((lif_neuron))\n",
    "\n",
    "spike_times = [10, 20, 30, 31, 32, 33, 34, 35, 70]\n",
    "\n",
    "spikes = np.zeros((100,))\n",
    "spikes[np.array(spike_times)] = 1\n",
    "outs = []\n",
    "pots = []\n",
    "for i in range(100):\n",
    "    in_spikes = spark.SpikeArray( jnp.ones((1,)) * spikes[i] )\n",
    "    outputs, state = run_model_split(graph, state, in_spikes=in_spikes)\n",
    "    outs.append(np.array(outputs['out_spikes'].value))\n",
    "\n",
    "    model = spark.merge(graph, state)\n",
    "    pots.append(np.array(model.soma.potential.value) -70)\n",
    "\n",
    "plt.figure(figsize=(8, 5))\n",
    "plt.subplot(4, 1, 1)\n",
    "plt.eventplot([t for t, s in enumerate(outs) if s == 1])\n",
    "plt.xlim(0,100)\n",
    "plt.subplot(4, 1, 2)\n",
    "plt.plot(pots)\n",
    "plt.show()"
   ]
  },
  {
   "cell_type": "code",
   "execution_count": 31,
   "id": "a3493492",
   "metadata": {},
   "outputs": [
    {
     "name": "stdout",
     "output_type": "stream",
     "text": [
      "LIFNeuronConfig\n",
      "├── seed: int <- 3167083110\n",
      "├── dtype: DTypeLike <- <class 'jax.numpy.float16'>\n",
      "├── dt: float <- 1.0\n",
      "├── units: tuple[int, ...] <- (1,)\n",
      "├── max_delay: float <- 0.2\n",
      "├── inhibitory_rate: float <- 0.0\n",
      "├── async_spikes: bool <- False\n",
      "├── LeakySomaConfig\n",
      "│   ├── seed: int <- 1108403108\n",
      "│   ├── dtype: DTypeLike <- <class 'jax.numpy.float16'>\n",
      "│   ├── dt: float <- 1.0\n",
      "│   ├── potential_rest: float | jax.Array <- -60.0\n",
      "│   ├── potential_reset: float | jax.Array <- -50.0\n",
      "│   ├── potential_tau: float | jax.Array <- 20.0\n",
      "│   ├── resistance: float | jax.Array <- 100.0\n",
      "│   └── threshold: float | jax.Array <- -40.0\n",
      "├── LinearSynapsesConfig\n",
      "│   ├── seed: int <- 2941567481\n",
      "│   ├── dtype: DTypeLike <- <class 'jax.numpy.float16'>\n",
      "│   ├── dt: float <- 1.0\n",
      "│   ├── units: tuple[int, ...] <- (1,)\n",
      "│   ├── async_spikes: bool <- False\n",
      "│   └── ConstantInitializerConfig\n",
      "│       ├── dtype: DTypeLike <- <class 'jax.numpy.float16'>\n",
      "│       ├── scale: T <- 5000.0\n",
      "│       ├── min_value: T | None <- None\n",
      "│       └── max_value: T | None <- None\n",
      "├── delays_config: DelaysConfig | None <- None\n",
      "└── learning_rule_config: LearningRuleConfig | None <- None\n"
     ]
    }
   ],
   "source": [
    "print(lif_neuron.config.summary())"
   ]
  },
  {
   "cell_type": "code",
   "execution_count": 2,
   "id": "b121b2d2",
   "metadata": {},
   "outputs": [],
   "source": [
    "DT = 0.1\n",
    "V_REST = -70.0\n",
    "V_RESET = -65.0\n",
    "FIRING_THRESHOLD = -50\n",
    "MEMBRANE_RESISTANCE = 10.0\n",
    "MEMBRANE_TIME_SCALE = 8.0\n",
    "ABSOLUTE_REFRACTORY_PERIOD = 2.0\n",
    "INPUT_SPIKE_TIMES = [10, 20, 30, 31, 32, 33, 34, 35, 70]"
   ]
  },
  {
   "cell_type": "code",
   "execution_count": 46,
   "id": "252cb647",
   "metadata": {},
   "outputs": [
    {
     "data": {
      "image/png": "[encoded data removed]",
      "text/plain": [
       "<Figure size 800x500 with 4 Axes>"
      ]
     },
     "metadata": {},
     "output_type": "display_data"
    }
   ],
   "source": [
    "import numpy as np\n",
    "import brian2 as b2\n",
    "import matplotlib.pyplot as plt\n",
    "\n",
    "\n",
    "def spikes_to_current(spike_times, k=1.0, t_max=100.0, dt=0.1):\n",
    "    \"\"\"\n",
    "    Convert spike times into a discrete current trace.\n",
    "    Each spike contributes a single-step current of amplitude `k`.\n",
    "\n",
    "    Parameters\n",
    "    ----------\n",
    "    spike_times : list or array\n",
    "        Times (ms) when spikes occur.\n",
    "    k : float\n",
    "        Current amplitude per spike (arbitrary units).\n",
    "    t_max : float\n",
    "        Total simulation time (ms).\n",
    "    dt : float\n",
    "        Simulation time step (ms).\n",
    "\n",
    "    Returns\n",
    "    -------\n",
    "    times : np.ndarray\n",
    "        Time vector (ms)\n",
    "    currents : np.ndarray\n",
    "        Current trace (a.u.)\n",
    "    \"\"\"\n",
    "    times = np.arange(0, t_max + dt, dt)\n",
    "    currents = np.zeros_like(times)\n",
    "    for s in spike_times:\n",
    "        idx = int(round(s / dt))\n",
    "        if 0 <= idx < len(currents):\n",
    "            currents[idx] += k\n",
    "    return times, currents\n",
    "\n",
    "def simulate_LIF_from_spikes(\n",
    "        spike_times,\n",
    "        k=1.0,\n",
    "        t_max=100.0,\n",
    "        dt=DT,\n",
    "\t\tv_rest=V_REST * b2.mV,\n",
    "\t\tv_reset=V_RESET * b2.mV,\n",
    "\t\tfiring_threshold=FIRING_THRESHOLD * b2.mV,\n",
    "\t\tmembrane_resistance=MEMBRANE_RESISTANCE * b2.Mohm,\n",
    "\t\tmembrane_time_scale=MEMBRANE_TIME_SCALE * b2.ms,\n",
    "\t\tabs_refractory_period=ABSOLUTE_REFRACTORY_PERIOD * b2.ms\n",
    "    ):\n",
    "    \"\"\"\n",
    "    Simulate a LIF neuron receiving discrete one-step current inputs from spikes.\n",
    "    \"\"\"\n",
    "    b2.start_scope()\n",
    "\n",
    "    # Build discrete current trace from spikes\n",
    "    times, currents = spikes_to_current(spike_times, k=k, t_max=t_max, dt=dt)\n",
    "    input_current = b2.TimedArray(currents * b2.nA, dt=dt * b2.ms)\n",
    "\n",
    "    eqs = \"\"\"\n",
    "    \tdv/dt = (-(v - v_rest) + membrane_resistance * input_current(t)) / membrane_time_scale : volt (unless refractory)\n",
    "    \"\"\"\n",
    "\n",
    "    neuron = b2.NeuronGroup(\n",
    "        1, model=eqs, reset=\"v=v_reset\", threshold=\"v>firing_threshold\",\n",
    "        refractory=abs_refractory_period, method=\"linear\"\n",
    "    )\n",
    "    neuron.v = v_rest\n",
    "\n",
    "    state_monitor = b2.StateMonitor(neuron, \"v\", record=True)\n",
    "    spike_monitor = b2.SpikeMonitor(neuron)\n",
    "\n",
    "    b2.run(t_max * b2.ms)\n",
    "    return times, currents, state_monitor, spike_monitor\n",
    "\n",
    "# Each spike produces one discrete current pulse (k = 2.0 nA)\n",
    "times, currents, state_monitor, spike_monitor = simulate_LIF_from_spikes(\n",
    "    INPUT_SPIKE_TIMES, k=75.0, t_max=100.0\n",
    ")\n",
    "\n",
    "plt.figure(figsize=(8, 5))\n",
    "plt.subplot(4, 1, 1)\n",
    "plt.xlim(0,100)\n",
    "plt.eventplot([spike_times])\n",
    "plt.ylabel(\"Spikes\")\n",
    "\n",
    "plt.subplot(4, 1, 2)\n",
    "plt.xlim(0,100)\n",
    "plt.plot(times, currents)\n",
    "plt.ylabel(\"I(t) [nA]\")\n",
    "\n",
    "plt.subplot(4, 1, 3)\n",
    "plt.xlim(0,100)\n",
    "plt.plot(state_monitor.t / b2.ms, state_monitor.v[0] / b2.mV)\n",
    "plt.ylabel(\"V (mV)\")\n",
    "plt.xlabel(\"Time (ms)\")\n",
    "plt.tight_layout()\n",
    "\n",
    "plt.subplot(4, 1, 4)\n",
    "plt.xlim(0,100)\n",
    "plt.eventplot([s / b2.ms for s in spike_monitor.t])\n",
    "plt.ylabel(\"Spikes\")\n",
    "plt.show()\n"
   ]
  },
  {
   "cell_type": "code",
   "execution_count": 1,
   "id": "bcca93da",
   "metadata": {},
   "outputs": [
    {
     "name": "stdout",
     "output_type": "stream",
     "text": [
      "[CudaDevice(id=0)]\n"
     ]
    },
    {
     "data": {
      "image/png": "[encoded data removed]",
      "text/plain": [
       "<Figure size 800x500 with 4 Axes>"
      ]
     },
     "metadata": {},
     "output_type": "display_data"
    }
   ],
   "source": [
    "import sys\n",
    "sys.path.append('..')\n",
    "import jax\n",
    "print(jax.devices())\n",
    "import jax.numpy as jnp\n",
    "import numpy as np\n",
    "import spark\n",
    "import matplotlib.pyplot as plt\n",
    "\n",
    "DT = 0.1\n",
    "V_REST = -70.0\n",
    "V_RESET = -65.0\n",
    "FIRING_THRESHOLD = -50\n",
    "MEMBRANE_RESISTANCE = 10.0\n",
    "MEMBRANE_TIME_SCALE = 8.0\n",
    "ABSOLUTE_REFRACTORY_PERIOD = 2.0\n",
    "INPUT_SPIKE_TIMES = [10, 20, 30, 31, 32, 33, 34, 35, 70]\n",
    "\n",
    "def spike_events_to_array(spikes, max_t, dt=0.1):\n",
    "\ttimes = np.linspace(0, max_t, int(max_t/dt)+1)\n",
    "\tarray = np.zeros(times.shape)\n",
    "\tfor s in spikes:\n",
    "\t\tarray[int(s / dt)] = 1\n",
    "\treturn times, array\n",
    "\n",
    "@jax.jit\n",
    "def run_model_split(graph, state, **inputs):\n",
    "\tmodel = spark.merge(graph, state)\n",
    "\toutputs = model(**inputs)\n",
    "\t_, state = spark.split((model))\n",
    "\treturn outputs, state\n",
    "\n",
    "lif_neuron = spark.nn.neurons.LIFNeuron(\n",
    "\t_s_units = (1,),\n",
    "\t_s_dt = DT,\n",
    "\t_s_dtype = jnp.float32,\n",
    "\tasync_spikes = False,\n",
    "\tinhibitory_rate = 0.0,\n",
    "\tsoma_config = spark.nn.somas.StrictRefractoryLeakySomaConfig(\n",
    "\tpotential_rest = V_REST,\n",
    "\tpotential_reset = V_RESET,\n",
    "\tpotential_tau = MEMBRANE_TIME_SCALE,\n",
    "\tresistance = MEMBRANE_RESISTANCE,\n",
    "\tthreshold = FIRING_THRESHOLD,\n",
    "\tcooldown = ABSOLUTE_REFRACTORY_PERIOD,\n",
    "\t),\n",
    "\tsynapses_config = spark.nn.synapses.LinearSynapsesConfig(\n",
    "\t\tunits = (1,),\n",
    "\t\tkernel_initializer = spark.nn.initializers.ConstantInitializerConfig(scale=75000.0),\n",
    "\t),\n",
    "\tdelays_config = None,\n",
    "\tlearning_rule_config = None,\n",
    ")\n",
    "lif_neuron(in_spikes=spark.SpikeArray( jnp.zeros((1,)) ))\n",
    "graph, state = spark.split((lif_neuron))\n",
    "\n",
    "times, spikes = spike_events_to_array(INPUT_SPIKE_TIMES, 100, dt=DT)\n",
    "outs = []\n",
    "pots = []\n",
    "is_ready = []\n",
    "for s in spikes:\n",
    "\tin_spikes = spark.SpikeArray( jnp.array([s]) )\n",
    "\toutputs, state = run_model_split(graph, state, in_spikes=in_spikes)\n",
    "\touts.append(np.array(outputs['out_spikes'].value))\n",
    "\tmodel = spark.merge(graph, state)\n",
    "\tpots.append(np.array(model.soma.potential.value) + V_REST)\n",
    "\tis_ready.append(np.array(jnp.greater(model.soma.refractory.value, model.soma.cooldown).astype(model._dtype)))\n",
    "\n",
    "plt.figure(figsize=(8, 5))\n",
    "plt.subplot(4, 1, 1)\n",
    "plt.xlim(0,100)\n",
    "plt.eventplot(INPUT_SPIKE_TIMES)\n",
    "plt.subplot(4, 1, 2)\n",
    "plt.xlim(0,100)\n",
    "plt.plot(times, pots)\n",
    "plt.subplot(4, 1, 3)\n",
    "plt.xlim(0,100)\n",
    "plt.plot(times, is_ready)\n",
    "plt.subplot(4, 1, 4)\n",
    "plt.xlim(0,100)\n",
    "plt.eventplot([t*DT for t, s in enumerate(outs) if s == 1])\n",
    "plt.show()"
   ]
  },
  {
   "cell_type": "code",
   "execution_count": null,
   "id": "7cde3018",
   "metadata": {},
   "outputs": [],
   "source": []
  },
  {
   "cell_type": "code",
   "execution_count": 25,
   "id": "e294a772",
   "metadata": {},
   "outputs": [
    {
     "data": {
      "text/plain": [
       "array([  0. ,   0.1,   0.2, ...,  99.8,  99.9, 100. ], shape=(1001,))"
      ]
     },
     "execution_count": 25,
     "metadata": {},
     "output_type": "execute_result"
    }
   ],
   "source": []
  }
 ],
 "metadata": {
  "kernelspec": {
   "display_name": ".env",
   "language": "python",
   "name": "python3"
  },
  "language_info": {
   "codemirror_mode": {
    "name": "ipython",
    "version": 3
   },
   "file_extension": ".py",
   "mimetype": "text/x-python",
   "name": "python",
   "nbconvert_exporter": "python",
   "pygments_lexer": "ipython3",
   "version": "3.13.8"
  }
 },
 "nbformat": 4,
 "nbformat_minor": 5
}
